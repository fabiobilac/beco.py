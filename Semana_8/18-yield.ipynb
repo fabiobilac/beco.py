{
 "cells": [
  {
   "cell_type": "markdown",
   "metadata": {},
   "source": [
    "# YIELD\n",
    "\n",
    "<center><img width=\"40%\"  src=\"https://raw.githubusercontent.com/leonardo-multiverso/img/main/yield.png\"></center>\n",
    "\n",
    "O `yield` dentro de uma função, é utilizada para retornar um resultado, muito parecido com o `return`, porém não retorna um valor em específico, e sim um objeto `generator`.\n",
    "\n",
    "Para ficar claro sobre o que o `yield` realmente faz, precisamos abordar dois aspectos:\n",
    "\n",
    "1. Iterações\n",
    "2. Objetos generator\n",
    "\n",
    "Vamos ver na prática.\n",
    "\n",
    "## Iterações\n",
    "\n",
    "Iteraçoes como já vimos diversas vezes ao longo do treinamento, é o ato de repetir algo ou o conjunto de instruções por uma quantidade de vezes.\n",
    "\n",
    "Um exemplo claro, é o uso do `for` ou do `while` que repete instruções, ou seja, iteram sobre uma quantidade finita de vezes:"
   ]
  },
  {
   "cell_type": "code",
   "execution_count": null,
   "metadata": {},
   "outputs": [],
   "source": [
    "# Iterando com o for\n",
    "\n",
    "for i in range(10):\n",
    "    print(f\"O número atual é: {i}\")"
   ]
  },
  {
   "cell_type": "code",
   "execution_count": null,
   "metadata": {},
   "outputs": [],
   "source": [
    "# Iterando com while\n",
    "\n",
    "cont = 0\n",
    "while cont < 10:\n",
    "    print(f\"O número atual é: {cont}\")\n",
    "    cont += 1"
   ]
  },
  {
   "cell_type": "markdown",
   "metadata": {},
   "source": [
    "## Objetos generator\n",
    "\n",
    "Objetos `generator`, são objetos que, não representam um valor específico, mas podem ser iteraveis em funções gerando valores sob \"demanda\".\n",
    "\n",
    "Vamos ver as diferenças na prática, criando uma lista simples e depois um generator:"
   ]
  },
  {
   "cell_type": "code",
   "execution_count": null,
   "metadata": {},
   "outputs": [],
   "source": [
    "# Criando uma lista normal\n",
    "\n",
    "lista_normal = [x for x in range(10)]\n",
    "\n",
    "print(lista_normal)"
   ]
  },
  {
   "cell_type": "code",
   "execution_count": null,
   "metadata": {},
   "outputs": [],
   "source": [
    "# Criando um objeto generator\n",
    "\n",
    "lista_generator = (x for x in range(10))\n",
    "\n",
    "print(lista_generator)"
   ]
  },
  {
   "cell_type": "markdown",
   "metadata": {},
   "source": [
    "Como podemos ver, o primeiro objeto criou uma lista simples, enquanto a segunda retornou um objeto `generator`.\n",
    "\n",
    "Este objeto, gera valores sob demanda a partir de uma função que itere sobre ela, como por exemplo a função `next()` que percorre valores de um objeto, ou até mesmo o `for`.\n",
    "\n",
    "Na prática:"
   ]
  },
  {
   "cell_type": "code",
   "execution_count": null,
   "metadata": {},
   "outputs": [],
   "source": [
    "# Criando um objeto generator\n",
    "\n",
    "lista_generator = (x for x in range(10))"
   ]
  },
  {
   "cell_type": "code",
   "execution_count": null,
   "metadata": {},
   "outputs": [],
   "source": [
    "# iterando com next()\n",
    "\n",
    "print(next(lista_generator))"
   ]
  },
  {
   "cell_type": "code",
   "execution_count": null,
   "metadata": {},
   "outputs": [],
   "source": [
    "# iterando com for\n",
    "\n",
    "for i in lista_generator:\n",
    "    print(i)"
   ]
  },
  {
   "cell_type": "markdown",
   "metadata": {},
   "source": [
    "Uma vez que um valor for gerado a partir de um generator, ele não pode mais ser reutilizado.\n",
    "\n",
    "### Qual a real utilidade do generator?\n",
    "\n",
    "Quando geramos uma lista normal, todos os valores da lista são carregados em memória e ficam disponíveis para utilização.\n",
    "\n",
    "Porém quando criamos um generator, ele carrega em memória, somente a iteração, ocupando consideravelmente o uso da memória.\n",
    "\n",
    "#### Exemplo:\n",
    "\n",
    "Vamos supor que você tenha que efetuar um calculo com 1 Milhão de iterações, se gerar uma lista simples, este 1 Milhão de valores serão gravados em memória e ficarão disponíveis para o uso.\n",
    "\n",
    "Mas se você criar um generator, somente o tamanho da iteração ocupará a memória.\n",
    "\n",
    "Vamos utilizar a função `getsizeof()` do módulo `sys`, para vermos a diferença do uso da memória:"
   ]
  },
  {
   "cell_type": "code",
   "execution_count": null,
   "metadata": {},
   "outputs": [],
   "source": [
    "from sys import getsizeof\n",
    "\n",
    "# criando lista normal\n",
    "\n",
    "lista_normal = [x for x in range(1000000)]\n",
    "\n",
    "# imprimindo o espaço utilizado na memória\n",
    "print(f\"A lista normal ocupa {getsizeof(lista_normal)} bytes da memória.\")"
   ]
  },
  {
   "cell_type": "code",
   "execution_count": null,
   "metadata": {},
   "outputs": [],
   "source": [
    "# criando generator\n",
    "\n",
    "lista_generator = (x for x in range(1000000))\n",
    "\n",
    "# imprimindo o espaço utilizado na memória\n",
    "print(f\"A lista normal ocupa {getsizeof(lista_generator)} bytes da memória.\")"
   ]
  },
  {
   "cell_type": "markdown",
   "metadata": {},
   "source": [
    "Portanto, o `generator` é uma grande ferramenta quando precisamos de uma grande quantidade de valores para serem iterados.\n",
    "\n",
    "## E onde entra o yield?\n",
    "\n",
    "É exatamente aí que o `yield` entra em uma função.\n",
    "\n",
    "Enquanto o `return` retorna um valor específico, o `yield` retorna um objeto `generator`."
   ]
  }
 ],
 "metadata": {
  "interpreter": {
   "hash": "916dbcbb3f70747c44a77c7bcd40155683ae19c65e1c03b4aa3499c5328201f1"
  },
  "kernelspec": {
   "display_name": "Python 3.9.2 64-bit",
   "language": "python",
   "name": "python3"
  },
  "language_info": {
   "codemirror_mode": {
    "name": "ipython",
    "version": 3
   },
   "file_extension": ".py",
   "mimetype": "text/x-python",
   "name": "python",
   "nbconvert_exporter": "python",
   "pygments_lexer": "ipython3",
   "version": "3.10.2"
  },
  "orig_nbformat": 4
 },
 "nbformat": 4,
 "nbformat_minor": 2
}
